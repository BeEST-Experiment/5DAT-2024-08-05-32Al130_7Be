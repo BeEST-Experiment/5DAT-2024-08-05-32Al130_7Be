{
 "cells": [
  {
   "cell_type": "markdown",
   "metadata": {},
   "source": [
    "# Further Studies"
   ]
  },
  {
   "cell_type": "markdown",
   "metadata": {},
   "source": [
    "### Laser Identification"
   ]
  },
  {
   "cell_type": "markdown",
   "metadata": {},
   "source": [
    "Laser identified, 100Hz. Hard to tell on such a long plot that the data does not overlap locally, but it works. Looks like there's reasonable amounts of off-laser data - maybe it's nuclear!\n",
    "\n",
    "What about the events near zero?"
   ]
  },
  {
   "cell_type": "code",
   "execution_count": null,
   "metadata": {},
   "outputs": [],
   "source": [
    "%%capture\n",
    "%%\n",
    "\"\"\"The data near zero time is interesting.\n",
    "\n",
    "The vertical discretization might be some form of time binning.\n",
    "The fact that it's at near zero absolute time is strange. Is there some sort of large noise upon startup?\n",
    "\"\"\"\n",
    "\n",
    "laser_hz = 100\n",
    "df[\"ig_laser\"] = np.abs(\n",
    "    ((df.realtime - df.realtime.min()).dt.total_seconds() % (1 / laser_hz))\n",
    "    - ((df.realtime - df.realtime.min()).dt.total_seconds() % (1 / laser_hz))\n",
    "    .rolling(1000)\n",
    "    .median()\n",
    ") < 0.05 * np.mean(\n",
    "    (df.realtime - df.realtime.min()).dt.total_seconds() % (1 / laser_hz)\n",
    ")\n",
    "\n",
    "\n",
    "fig, ax = plt.subplots(figsize=(10, 6), dpi=200, constrained_layout=True)\n",
    "ax.scatter(\n",
    "    (df.realtime - df.realtime.min()).dt.total_seconds(),\n",
    "    (df.realtime - df.realtime.min()).dt.total_seconds() % (1 / laser_hz),\n",
    "    s=0.1,\n",
    "    lw=0,\n",
    "    alpha=0.5,\n",
    ")\n",
    "data = df[df.ig_laser]\n",
    "ax.scatter(\n",
    "    (data.realtime - df.realtime.min()).dt.total_seconds(),\n",
    "    (data.realtime - df.realtime.min()).dt.total_seconds() % (1 / laser_hz),\n",
    "    s=0.1,\n",
    "    lw=0,\n",
    "    alpha=0.5,\n",
    ")\n",
    "ax.set(\n",
    "    xlim=(-5, 10),\n",
    "    xlabel=\"Time since start (s)\",\n",
    "    ylabel=f\"Time modulo 1/{laser_hz} s\",\n",
    "    title=f\"Laser Identification for {DATE}\",\n",
    ")\n",
    "fig.savefig(os.path.join(figdir, f\"laserIdentification_{laser_hz}Hz.png\"))"
   ]
  },
  {
   "cell_type": "code",
   "execution_count": null,
   "metadata": {},
   "outputs": [],
   "source": [
    "%%capture\n",
    "%%\n",
    "\"\"\"The data near zero is nothing interesting I guess.\n",
    "Lots of it are the 'bad' events tagged by setting their height to zero. Be sure to filter those out,\n",
    "otherwise you get a large line at zero.\n",
    "\"\"\"\n",
    "\n",
    "fig, ax = plt.subplots(figsize=(10, 4), dpi=200, constrained_layout=True)\n",
    "data = df[(df.realtime - df.realtime.min()).dt.total_seconds() < 5.5]\n",
    "h, b = np.histogram(data.height_mV, bins=1000)\n",
    "ax.step(b[:-1], h, where=\"mid\")\n",
    "data = df[(df.realtime - df.realtime.min()).dt.total_seconds() < 5]\n",
    "h, b = np.histogram(data.height_mV, bins=1000)\n",
    "ax.step(b[:-1], h, where=\"mid\")"
   ]
  },
  {
   "cell_type": "markdown",
   "metadata": {},
   "source": [
    "## Nuclear Data"
   ]
  },
  {
   "cell_type": "markdown",
   "metadata": {},
   "source": [
    "## Using Laser Data!"
   ]
  },
  {
   "cell_type": "code",
   "execution_count": null,
   "metadata": {},
   "outputs": [],
   "source": [
    "\"\"\"Per Channel Nuclear Data\n",
    "\n",
    "~ig_laser\n",
    "\n",
    "\"\"\"\n",
    "\n",
    "channels = df.channel.unique()\n",
    "fig, axes = plt.subplots(\n",
    "    len(channels),\n",
    "    1,\n",
    "    figsize=(8, 3.2 * len(channels)),\n",
    "    dpi=DPI_VIS,\n",
    "    constrained_layout=True,\n",
    ")\n",
    "for channel, ax in list(zip(channels, np.ravel(axes))):\n",
    "    range = (0, 50)\n",
    "    bins = 1000\n",
    "    if channel == 27:\n",
    "        bins = 350\n",
    "        range = (0, 25)\n",
    "    data = df[(df.channel == channel) & (~df.ig_laser)]\n",
    "    h, b = np.histogram(data.height_mV, bins=bins, range=range)\n",
    "    ax.step(b[:-1], h, where=\"post\", label=\"All Laser-Anticoincident Data\", zorder=-21)\n",
    "    for mxmult in [2, 4, 6, 8, 10, 15, 20]:\n",
    "        data = df[(df.channel == channel) & (~df.ig_laser) & (df.multiplicity < mxmult)]\n",
    "        h, b = np.histogram(data.height_mV, bins=bins, range=range)\n",
    "        ax.step(\n",
    "            b[:-1], h, where=\"post\", label=f\"Multiplicity < {mxmult}\", zorder=-mxmult\n",
    "        )\n",
    "    ax.set(\n",
    "        title=f\"Channel {channel}\",\n",
    "        xlabel=\"Height [mV]\",\n",
    "        ylabel=\"Counts\",\n",
    "        yscale=\"log\",\n",
    "    )\n",
    "    ax.legend()\n",
    "display(fig)\n",
    "fig.savefig(os.path.join(figdir, \"per_channel-nuclear_data-laser_anticoincidence.png\"))\n",
    "print(\n",
    "    f\"Saved {os.path.join(figdir, 'per_channel-nuclear_data-laser_anticoincidence.png')}\"\n",
    ")\n",
    "plt.close(fig)"
   ]
  },
  {
   "cell_type": "markdown",
   "metadata": {},
   "source": [
    "\n",
    "## Original Method w Mulitplicity"
   ]
  },
  {
   "cell_type": "code",
   "execution_count": null,
   "metadata": {},
   "outputs": [],
   "source": [
    "%%capture\n",
    "%%\n",
    "\"\"\"Per Channel Nuclear Data\n",
    "\n",
    "Multiplicity 1\n",
    "\"\"\"\n",
    "\n",
    "num_channels = df.channel.unique().size\n",
    "fig, axes = plt.subplots(\n",
    "    num_channels, 1, figsize=(5, 3 * num_channels), dpi=DPI_VIS, constrained_layout=True\n",
    ")\n",
    "for channel, ax in list(zip(df.channel.unique(), np.ravel(axes))):\n",
    "    data = df[(df.channel == channel) & (df.multiplicity == 1)]\n",
    "    range = (0, 50)\n",
    "    bins = 1000\n",
    "    if channel == 27:\n",
    "        bins = 350\n",
    "        range = (0, 25)\n",
    "    h, b = np.histogram(data.height_mV, bins=bins, range=range)\n",
    "    ax.step(b[:-1], h, where=\"post\", label=\"All Data\")\n",
    "    ax.set(\n",
    "        title=f\"Channel {channel}\",\n",
    "        xlabel=\"Height [mV]\",\n",
    "        ylabel=\"Counts\",\n",
    "        yscale=\"log\",\n",
    "    )\n",
    "display(fig)\n",
    "fig.savefig(os.path.join(figdir, \"per_channel-nuclear_data-m1.png\"))\n",
    "plt.close(fig)"
   ]
  },
  {
   "cell_type": "code",
   "execution_count": null,
   "metadata": {},
   "outputs": [],
   "source": [
    "%%capture\n",
    "%%\n",
    "\"\"\"Per Channel Multiplicity Ranges\n",
    "\n",
    "Multiplicities\n",
    "- 2 to nchannels/4\n",
    "- nchannels/4 to nchannels/2\n",
    "- nchannels/2 to 3nchannels/4\n",
    "- 3nchannels/4 to nchannels\n",
    "\"\"\"\n",
    "\n",
    "num_channels = df.channel.unique().size\n",
    "fig, axes = plt.subplots(\n",
    "    num_channels,\n",
    "    1,\n",
    "    figsize=(10, 6 * num_channels),\n",
    "    dpi=DPI_VIS,\n",
    "    constrained_layout=True,\n",
    ")\n",
    "for channel, ax in list(zip(df.channel.unique(), np.ravel(axes))):\n",
    "    data = df[(df.channel == channel) & (df.multiplicity == 1)]\n",
    "    range = (0, 50)\n",
    "    bins = 1000\n",
    "    if channel == 27:\n",
    "        bins = 350\n",
    "        range = (0, 25)\n",
    "    h, b = np.histogram(data.height_mV, bins=bins, range=range)\n",
    "    ax.step(b[:-1], h, where=\"post\", label=\"Nuclear Data\")\n",
    "    ax.set(\n",
    "        title=f\"Channel {channel}\",\n",
    "        xlabel=\"Height [mV]\",\n",
    "        ylabel=\"Counts\",\n",
    "        yscale=\"log\",\n",
    "    )\n",
    "    for multiplicity in np.linspace(2, num_channels, 4):\n",
    "        data = df[\n",
    "            (df.channel == channel)\n",
    "            & (df.multiplicity >= multiplicity)\n",
    "            & (df.multiplicity < multiplicity + num_channels / 4)\n",
    "        ]\n",
    "        h, b = np.histogram(data.height_mV, bins=bins, range=range)\n",
    "        ax.step(\n",
    "            b[:-1],\n",
    "            h,\n",
    "            where=\"post\",\n",
    "            label=f\"Mult. {multiplicity:.01f} - {multiplicity + num_channels / 4:.01f}\",\n",
    "        )\n",
    "    ax.legend()\n",
    "display(fig)\n",
    "fig.savefig(os.path.join(figdir, \"per_channel-nuclear_data-mX.png\"))\n",
    "plt.close(fig)"
   ]
  },
  {
   "cell_type": "markdown",
   "metadata": {},
   "source": [
    "## Redo Multiplicity and Save"
   ]
  },
  {
   "cell_type": "code",
   "execution_count": null,
   "metadata": {},
   "outputs": [],
   "source": [
    "%%capture\n",
    "%%\n",
    "\"\"\"Recalculate Multiplicity by Threshold\n",
    "\n",
    "Plot resulting sums of data\n",
    "\"\"\"\n",
    "\n",
    "fig, ax = plt.subplots(figsize=(10, 6), dpi=DPI_VIS, constrained_layout=True)\n",
    "for slow_threshold in np.linspace(0, 3, 5):\n",
    "    data = df[df.channel != 27]\n",
    "    multiplicity = data.groupby(\"eventID\").height_mV.apply(\n",
    "        lambda x: (x > slow_threshold).sum()\n",
    "    )\n",
    "    data = data[data.eventID.isin(multiplicity[multiplicity == 1].index)]\n",
    "    h, b = np.histogram(data.height_mV, bins=1000, range=(0, 35))\n",
    "    ax.step(\n",
    "        b[:-1],\n",
    "        h,\n",
    "        where=\"post\",\n",
    "        lw=0.5,\n",
    "        alpha=0.7,\n",
    "        label=f\"slow_amp > {slow_threshold:.2f}\",\n",
    "    )\n",
    "ax.set(\n",
    "    title=\"Multiplicity 1 Data\",\n",
    "    xlabel=\"Height [mV]\",\n",
    "    ylabel=\"Counts\",\n",
    "    yscale=\"log\",\n",
    ")\n",
    "ax.legend()\n",
    "display(fig)\n",
    "fig.savefig(os.path.join(figdir, \"sum-nuclear_data-m1_threshold.png\"))\n",
    "plt.close(fig)"
   ]
  },
  {
   "cell_type": "markdown",
   "metadata": {},
   "source": [
    "# Debug"
   ]
  },
  {
   "cell_type": "markdown",
   "metadata": {},
   "source": []
  }
 ],
 "metadata": {
  "kernelspec": {
   "display_name": "science",
   "language": "python",
   "name": "python3"
  },
  "language_info": {
   "codemirror_mode": {
    "name": "ipython",
    "version": 3
   },
   "file_extension": ".py",
   "mimetype": "text/x-python",
   "name": "python",
   "nbconvert_exporter": "python",
   "pygments_lexer": "ipython3",
   "version": "3.10.9"
  }
 },
 "nbformat": 4,
 "nbformat_minor": 2
}
